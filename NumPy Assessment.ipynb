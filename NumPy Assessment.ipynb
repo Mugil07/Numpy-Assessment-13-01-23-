{
 "cells": [
  {
   "cell_type": "code",
   "execution_count": 23,
   "id": "c95c1c26",
   "metadata": {},
   "outputs": [],
   "source": [
    "# Import numpy\n",
    "import numpy as np"
   ]
  },
  {
   "cell_type": "raw",
   "id": "600328ea",
   "metadata": {},
   "source": [
    "Q1.Write a python program using numpy to curve the grades for a number of students."
   ]
  },
  {
   "cell_type": "code",
   "execution_count": 33,
   "id": "96d2a12e",
   "metadata": {},
   "outputs": [
    {
     "name": "stdout",
     "output_type": "stream",
     "text": [
      "Curved scores [ 63  65  63  80  63  95 100  63  71  64]\n"
     ]
    }
   ],
   "source": [
    "# List of student scores\n",
    "scores = np.array([50, 65, 30, 80, 25, 95, 100, 56, 71, 64])\n",
    "\n",
    "# Calculate the average of the scores\n",
    "average_score = np.mean(scores)\n",
    "\n",
    "# Declare the average as the C grade\n",
    "C_grade = average_score\n",
    "\n",
    "# Curve the grades\n",
    "for i in range(10):\n",
    "    if  scores[i] < C_grade:\n",
    "        scores[i]=C_grade\n",
    "        \n",
    "# Print the curved scores\n",
    "print('Curved scores',scores)"
   ]
  },
  {
   "cell_type": "raw",
   "id": "cd0b2335",
   "metadata": {},
   "source": [
    "Q3. How to print the checkerboard pattern of nxn using NumPy?"
   ]
  },
  {
   "cell_type": "code",
   "execution_count": 8,
   "id": "15c99636",
   "metadata": {
    "collapsed": true
   },
   "outputs": [
    {
     "name": "stdout",
     "output_type": "stream",
     "text": [
      "Enter the size of the checkerboard: 6\n",
      "[[0 1 0 1 0 1]\n",
      " [1 0 1 0 1 0]\n",
      " [0 1 0 1 0 1]\n",
      " [1 0 1 0 1 0]\n",
      " [0 1 0 1 0 1]\n",
      " [1 0 1 0 1 0]]\n"
     ]
    }
   ],
   "source": [
    "n = int(input(\"Enter the size of the checkerboard: \"))\n",
    "\n",
    "checkerboard = np.zeros((n,n),dtype=int) \n",
    "\n",
    "checkerboard[1::2,::2] = 1 \n",
    "checkerboard[::2,1::2] = 1 \n",
    "\n",
    "print(checkerboard)"
   ]
  },
  {
   "cell_type": "raw",
   "id": "60a59717",
   "metadata": {},
   "source": [
    "Q4. How to find the mean of every NumPy array in the given list?"
   ]
  },
  {
   "cell_type": "code",
   "execution_count": 9,
   "id": "10d571a2",
   "metadata": {
    "collapsed": true
   },
   "outputs": [
    {
     "name": "stdout",
     "output_type": "stream",
     "text": [
      "[3.0, 8.0]\n"
     ]
    }
   ],
   "source": [
    "arr1 = np.array([1,2,3,4,5]) \n",
    "arr2 = np.array([6,7,8,9,10]) \n",
    "list_of_arrays = [arr1, arr2] \n",
    "\n",
    "# Calculate the mean of each array in the list \n",
    "means = [np.mean(arr) for arr in list_of_arrays] \n",
    "\n",
    "# Print the mean of each array \n",
    "print(means) "
   ]
  },
  {
   "cell_type": "raw",
   "id": "8e9343cb",
   "metadata": {},
   "source": [
    "Q7.Print the transpose array and then print the flatten."
   ]
  },
  {
   "cell_type": "code",
   "execution_count": 15,
   "id": "20da96d8",
   "metadata": {
    "collapsed": true
   },
   "outputs": [
    {
     "name": "stdout",
     "output_type": "stream",
     "text": [
      "[[1 3]\n",
      " [2 4]]\n",
      "[1 2 3 4]\n"
     ]
    }
   ],
   "source": [
    "arr3=np.array(([1,2],[3,4]))\n",
    "\n",
    "# Transpose array\n",
    "print(np.transpose(arr3))\n",
    "\n",
    "# Flatten array\n",
    "print(arr3.flatten())\n"
   ]
  },
  {
   "cell_type": "raw",
   "id": "44230fdc",
   "metadata": {},
   "source": [
    "Q8.Floor,Ceil & rint"
   ]
  },
  {
   "cell_type": "code",
   "execution_count": 19,
   "id": "622e80a6",
   "metadata": {
    "collapsed": true
   },
   "outputs": [
    {
     "name": "stdout",
     "output_type": "stream",
     "text": [
      "[1. 2. 3. 4. 5. 6. 7. 8. 9.]\n",
      "[ 2.  3.  4.  5.  6.  7.  8.  9. 10.]\n",
      "[ 1.  2.  3.  4.  6.  7.  8.  9. 10.]\n"
     ]
    }
   ],
   "source": [
    "arr4=np.array([1.1,2.2,3.3,4.4,5.5,6.6,7.7,8.8,9.9])\n",
    "\n",
    "# Floor value\n",
    "print(np.floor(arr4))\n",
    "\n",
    "# Ceil value\n",
    "print(np.ceil(arr4))\n",
    "\n",
    "# rint value\n",
    "print(np.rint(arr4))"
   ]
  },
  {
   "cell_type": "raw",
   "id": "0266df35",
   "metadata": {},
   "source": [
    "Q9.Mean,var &std"
   ]
  },
  {
   "cell_type": "code",
   "execution_count": 22,
   "id": "99f9d26d",
   "metadata": {
    "collapsed": true
   },
   "outputs": [
    {
     "name": "stdout",
     "output_type": "stream",
     "text": [
      "[1.5 3.5]\n",
      "[1. 1.]\n",
      "1.118033988749895\n"
     ]
    }
   ],
   "source": [
    "arr5=np.array(([1,2],[3,4]))\n",
    "\n",
    "# Mean along axis=1\n",
    "print(np.mean(arr5,axis=1))\n",
    "\n",
    "# Var along axis=0\n",
    "print(np.var(arr5,axis=0))\n",
    "\n",
    "# Std along axis none\n",
    "print(np.std(arr5,axis=None))"
   ]
  },
  {
   "cell_type": "code",
   "execution_count": null,
   "id": "6ba3b615",
   "metadata": {},
   "outputs": [],
   "source": []
  }
 ],
 "metadata": {
  "kernelspec": {
   "display_name": "Python 3 (ipykernel)",
   "language": "python",
   "name": "python3"
  },
  "language_info": {
   "codemirror_mode": {
    "name": "ipython",
    "version": 3
   },
   "file_extension": ".py",
   "mimetype": "text/x-python",
   "name": "python",
   "nbconvert_exporter": "python",
   "pygments_lexer": "ipython3",
   "version": "3.8.10"
  }
 },
 "nbformat": 4,
 "nbformat_minor": 5
}
